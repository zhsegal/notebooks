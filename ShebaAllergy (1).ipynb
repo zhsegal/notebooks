{
 "cells": [
  {
   "cell_type": "code",
   "execution_count": 1,
   "metadata": {},
   "outputs": [],
   "source": [
    "from pymongo import MongoClient\n",
    "import pandas as pd\n",
    "import matplotlib.pyplot as plt\n",
    "%matplotlib inline\n"
   ]
  },
  {
   "cell_type": "code",
   "execution_count": 2,
   "metadata": {},
   "outputs": [],
   "source": [
    "def split_col(col):\n",
    "    return [st.split(',') for st in col]\n",
    "\n",
    "def unlist_col(col):\n",
    "    return [item for sublist in col for item in sublist]\n",
    "\n",
    "def count_len(cell):\n",
    "    try:\n",
    "        cell=cell.remove('0')\n",
    "        return len(cell)\n",
    "    except:\n",
    "        try:\n",
    "            return len(cell)\n",
    "        except:\n",
    "            return 0\n",
    "           \n",
    "    \n",
    "def label (row):\n",
    "    if row['count'] == 0 :\n",
    "        return 0\n",
    "    else:\n",
    "        return 1\n",
    "    \n",
    "def show_values_on_bars(axs, h_v=\"v\", space=0.4):\n",
    "    def _show_on_single_plot(ax):\n",
    "        if h_v == \"v\":\n",
    "            for p in ax.patches:\n",
    "                _x = p.get_x() + p.get_width() / 2\n",
    "                _y = p.get_y() + p.get_height()\n",
    "                value = int(p.get_height())\n",
    "                ax.text(_x, _y, value, ha=\"center\") \n",
    "        elif h_v == \"h\":\n",
    "            for p in ax.patches:\n",
    "                _x = p.get_x() + p.get_width() + float(space)\n",
    "                _y = p.get_y() + p.get_height()\n",
    "                value = int(p.get_width())\n",
    "                ax.text(_x, _y, value, ha=\"left\")\n",
    "\n",
    "    if isinstance(axs, np.ndarray):\n",
    "        for idx, ax in np.ndenumerate(axs):\n",
    "            _show_on_single_plot(ax)\n",
    "    else:\n",
    "        _show_on_single_plot(axs)"
   ]
  },
  {
   "cell_type": "code",
   "execution_count": 3,
   "metadata": {},
   "outputs": [],
   "source": [
    "db = client.get_database('ShebaAllergyDB')\n",
    "patients=db.patients"
   ]
  },
  {
   "cell_type": "code",
   "execution_count": 4,
   "metadata": {
    "scrolled": false
   },
   "outputs": [],
   "source": [
    "data = pd.DataFrame(list(patients.find({})))\n",
    "data.age=120-pd.to_numeric(data.age)\n",
    "data=data.fillna(0)\n",
    "data=data[(data.age<100.0) & (data.age>3)]\n",
    "data=data.replace('',0)"
   ]
  },
  {
   "cell_type": "code",
   "execution_count": 5,
   "metadata": {},
   "outputs": [
    {
     "data": {
      "text/plain": [
       "(298, 104)"
      ]
     },
     "execution_count": 5,
     "metadata": {},
     "output_type": "execute_result"
    }
   ],
   "source": [
    "data.shape"
   ]
  },
  {
   "cell_type": "markdown",
   "metadata": {},
   "source": [
    "## DESCRIPRTIVE"
   ]
  },
  {
   "cell_type": "code",
   "execution_count": 6,
   "metadata": {},
   "outputs": [
    {
     "data": {
      "text/plain": [
       "298"
      ]
     },
     "execution_count": 6,
     "metadata": {},
     "output_type": "execute_result"
    }
   ],
   "source": [
    "patient_number=data.shape[0]\n",
    "patient_number"
   ]
  },
  {
   "cell_type": "code",
   "execution_count": 7,
   "metadata": {
    "scrolled": true
   },
   "outputs": [
    {
     "data": {
      "text/plain": [
       "45.58724832214765"
      ]
     },
     "execution_count": 7,
     "metadata": {},
     "output_type": "execute_result"
    }
   ],
   "source": [
    "data.age.mean()"
   ]
  },
  {
   "cell_type": "code",
   "execution_count": 8,
   "metadata": {},
   "outputs": [
    {
     "data": {
      "text/plain": [
       "17.66983310137321"
      ]
     },
     "execution_count": 8,
     "metadata": {},
     "output_type": "execute_result"
    }
   ],
   "source": [
    "data.age.std()"
   ]
  },
  {
   "cell_type": "code",
   "execution_count": 9,
   "metadata": {},
   "outputs": [
    {
     "data": {
      "text/plain": [
       "182"
      ]
     },
     "execution_count": 9,
     "metadata": {},
     "output_type": "execute_result"
    }
   ],
   "source": [
    "sum(data.gender=='Female')"
   ]
  },
  {
   "cell_type": "code",
   "execution_count": 11,
   "metadata": {},
   "outputs": [
    {
     "data": {
      "text/plain": [
       "0.610738255033557"
      ]
     },
     "execution_count": 11,
     "metadata": {},
     "output_type": "execute_result"
    }
   ],
   "source": [
    "sum(data.gender=='Female')/patient_number"
   ]
  },
  {
   "cell_type": "markdown",
   "metadata": {},
   "source": [
    "## DEMOGRAPHICS"
   ]
  },
  {
   "cell_type": "code",
   "execution_count": 12,
   "metadata": {},
   "outputs": [
    {
     "data": {
      "image/png": "[encoded data removed]",
      "text/plain": [
       "<Figure size 432x288 with 1 Axes>"
      ]
     },
     "metadata": {},
     "output_type": "display_data"
    }
   ],
   "source": [
    "import seaborn as sns\n",
    "\n",
    "sns.set_style('darkgrid')\n",
    "ax=sns.distplot(data.age, norm_hist=False, kde=True)\n",
    "ax.set(xlabel= \"Age\",ylabel='Density')\n",
    "ax.set_title('Age Histogram')\n",
    "plt.show()"
   ]
  },
  {
   "cell_type": "code",
   "execution_count": 13,
   "metadata": {},
   "outputs": [
    {
     "data": {
      "text/plain": [
       "<matplotlib.axes._subplots.AxesSubplot at 0x7efd09247cd0>"
      ]
     },
     "execution_count": 13,
     "metadata": {},
     "output_type": "execute_result"
    },
    {
     "data": {
      "image/png": "[encoded data removed]",
      "text/plain": [
       "<Figure size 432x288 with 1 Axes>"
      ]
     },
     "metadata": {},
     "output_type": "display_data"
    }
   ],
   "source": [
    "CountStatus = pd.value_counts(data['gender'].values, sort=True)\n",
    "\n",
    "\n",
    "CountStatus.plot.barh()"
   ]
  },
  {
   "cell_type": "markdown",
   "metadata": {},
   "source": [
    "## TESTS"
   ]
  },
  {
   "cell_type": "code",
   "execution_count": 14,
   "metadata": {},
   "outputs": [
    {
     "data": {
      "text/plain": [
       "Index(['_id', 'body_parts', 'PatientID', 'month', 'year', 'age', 'gender',\n",
       "       'relevance', 'duration', 'family_history',\n",
       "       ...\n",
       "       'plastic', 'plastic_0', 'plastic_1', 'plastic_2', 'plastic_3', 'makeup',\n",
       "       'makeup_0', 'makeup_1', 'makeup_2', 'makeup_3'],\n",
       "      dtype='object', length=104)"
      ]
     },
     "execution_count": 14,
     "metadata": {},
     "output_type": "execute_result"
    }
   ],
   "source": [
    "data.columns"
   ]
  },
  {
   "cell_type": "code",
   "execution_count": 15,
   "metadata": {},
   "outputs": [
    {
     "data": {
      "text/plain": [
       "17"
      ]
     },
     "execution_count": 15,
     "metadata": {},
     "output_type": "execute_result"
    }
   ],
   "source": [
    "test_columns=['standard', 'perishable', 'cosmetics', 'plants', 'baking','perfumes','lotions','textile','shoes','acrylic',\n",
    "             'dental','books','oils','metals','plastic','steroids','rubber']\n",
    "len(test_columns)"
   ]
  },
  {
   "cell_type": "code",
   "execution_count": 16,
   "metadata": {},
   "outputs": [],
   "source": [
    "test=data[test_columns]"
   ]
  },
  {
   "cell_type": "code",
   "execution_count": 23,
   "metadata": {},
   "outputs": [
    {
     "data": {
      "text/plain": [
       "set()"
      ]
     },
     "execution_count": 23,
     "metadata": {},
     "output_type": "execute_result"
    }
   ],
   "source": [
    "l=(list(test.columns))\n",
    "set([x for x in l if l.count(x) > 1])"
   ]
  },
  {
   "cell_type": "code",
   "execution_count": 28,
   "metadata": {},
   "outputs": [
    {
     "ename": "KeyError",
     "evalue": "standard      296\nperishable    295\ncosmetics     293\nplants          9\nbaking         15\nperfumes        9\nlotions        54\ntextile        48\nshoes          25\nacrylic        24\ndental         14\nbooks          14\noils           13\nmetals          9\nplastic         7\nsteroids       45\nrubber          4\nName: 1, dtype: int64",
     "output_type": "error",
     "traceback": [
      "\u001b[0;31m---------------------------------------------------------------------------\u001b[0m",
      "\u001b[0;31mKeyError\u001b[0m                                  Traceback (most recent call last)",
      "\u001b[0;32m<ipython-input-28-5ce976906da5>\u001b[0m in \u001b[0;36m<module>\u001b[0;34m\u001b[0m\n\u001b[1;32m      1\u001b[0m \u001b[0mfinal\u001b[0m\u001b[0;34m=\u001b[0m\u001b[0mtest\u001b[0m\u001b[0;34m.\u001b[0m\u001b[0mapply\u001b[0m\u001b[0;34m(\u001b[0m\u001b[0mpd\u001b[0m\u001b[0;34m.\u001b[0m\u001b[0mSeries\u001b[0m\u001b[0;34m.\u001b[0m\u001b[0mvalue_counts\u001b[0m\u001b[0;34m)\u001b[0m\u001b[0;34m\u001b[0m\u001b[0;34m\u001b[0m\u001b[0m\n\u001b[1;32m      2\u001b[0m \u001b[0mfinal\u001b[0m\u001b[0;34m=\u001b[0m\u001b[0mfinal\u001b[0m\u001b[0;34m.\u001b[0m\u001b[0mfillna\u001b[0m\u001b[0;34m(\u001b[0m\u001b[0;36m0\u001b[0m\u001b[0;34m)\u001b[0m\u001b[0;34m\u001b[0m\u001b[0;34m\u001b[0m\u001b[0m\n\u001b[0;32m----> 3\u001b[0;31m \u001b[0mfinal\u001b[0m\u001b[0;34m=\u001b[0m\u001b[0mfinal\u001b[0m\u001b[0;34m.\u001b[0m\u001b[0msort_values\u001b[0m\u001b[0;34m(\u001b[0m\u001b[0mby\u001b[0m\u001b[0;34m=\u001b[0m\u001b[0mfinal\u001b[0m\u001b[0;34m.\u001b[0m\u001b[0miloc\u001b[0m\u001b[0;34m[\u001b[0m\u001b[0;36m0\u001b[0m\u001b[0;34m]\u001b[0m\u001b[0;34m,\u001b[0m \u001b[0maxis\u001b[0m\u001b[0;34m=\u001b[0m\u001b[0;36m1\u001b[0m\u001b[0;34m,\u001b[0m \u001b[0minplace\u001b[0m\u001b[0;34m=\u001b[0m\u001b[0;32mTrue\u001b[0m\u001b[0;34m)\u001b[0m\u001b[0;34m\u001b[0m\u001b[0;34m\u001b[0m\u001b[0m\n\u001b[0m\u001b[1;32m      4\u001b[0m \u001b[0;31m# final.head()\u001b[0m\u001b[0;34m\u001b[0m\u001b[0;34m\u001b[0m\u001b[0;34m\u001b[0m\u001b[0m\n",
      "\u001b[0;32m~/anaconda3/lib/python3.8/site-packages/pandas/core/frame.py\u001b[0m in \u001b[0;36msort_values\u001b[0;34m(self, by, axis, ascending, inplace, kind, na_position, ignore_index)\u001b[0m\n\u001b[1;32m   4925\u001b[0m \u001b[0;34m\u001b[0m\u001b[0m\n\u001b[1;32m   4926\u001b[0m             \u001b[0mby\u001b[0m \u001b[0;34m=\u001b[0m \u001b[0mby\u001b[0m\u001b[0;34m[\u001b[0m\u001b[0;36m0\u001b[0m\u001b[0;34m]\u001b[0m\u001b[0;34m\u001b[0m\u001b[0;34m\u001b[0m\u001b[0m\n\u001b[0;32m-> 4927\u001b[0;31m             \u001b[0mk\u001b[0m \u001b[0;34m=\u001b[0m \u001b[0mself\u001b[0m\u001b[0;34m.\u001b[0m\u001b[0m_get_label_or_level_values\u001b[0m\u001b[0;34m(\u001b[0m\u001b[0mby\u001b[0m\u001b[0;34m,\u001b[0m \u001b[0maxis\u001b[0m\u001b[0;34m=\u001b[0m\u001b[0maxis\u001b[0m\u001b[0;34m)\u001b[0m\u001b[0;34m\u001b[0m\u001b[0;34m\u001b[0m\u001b[0m\n\u001b[0m\u001b[1;32m   4928\u001b[0m \u001b[0;34m\u001b[0m\u001b[0m\n\u001b[1;32m   4929\u001b[0m             \u001b[0;32mif\u001b[0m \u001b[0misinstance\u001b[0m\u001b[0;34m(\u001b[0m\u001b[0mascending\u001b[0m\u001b[0;34m,\u001b[0m \u001b[0;34m(\u001b[0m\u001b[0mtuple\u001b[0m\u001b[0;34m,\u001b[0m \u001b[0mlist\u001b[0m\u001b[0;34m)\u001b[0m\u001b[0;34m)\u001b[0m\u001b[0;34m:\u001b[0m\u001b[0;34m\u001b[0m\u001b[0;34m\u001b[0m\u001b[0m\n",
      "\u001b[0;32m~/anaconda3/lib/python3.8/site-packages/pandas/core/generic.py\u001b[0m in \u001b[0;36m_get_label_or_level_values\u001b[0;34m(self, key, axis)\u001b[0m\n\u001b[1;32m   1690\u001b[0m             \u001b[0mvalues\u001b[0m \u001b[0;34m=\u001b[0m \u001b[0mself\u001b[0m\u001b[0;34m.\u001b[0m\u001b[0maxes\u001b[0m\u001b[0;34m[\u001b[0m\u001b[0maxis\u001b[0m\u001b[0;34m]\u001b[0m\u001b[0;34m.\u001b[0m\u001b[0mget_level_values\u001b[0m\u001b[0;34m(\u001b[0m\u001b[0mkey\u001b[0m\u001b[0;34m)\u001b[0m\u001b[0;34m.\u001b[0m\u001b[0m_values\u001b[0m\u001b[0;34m\u001b[0m\u001b[0;34m\u001b[0m\u001b[0m\n\u001b[1;32m   1691\u001b[0m         \u001b[0;32melse\u001b[0m\u001b[0;34m:\u001b[0m\u001b[0;34m\u001b[0m\u001b[0;34m\u001b[0m\u001b[0m\n\u001b[0;32m-> 1692\u001b[0;31m             \u001b[0;32mraise\u001b[0m \u001b[0mKeyError\u001b[0m\u001b[0;34m(\u001b[0m\u001b[0mkey\u001b[0m\u001b[0;34m)\u001b[0m\u001b[0;34m\u001b[0m\u001b[0;34m\u001b[0m\u001b[0m\n\u001b[0m\u001b[1;32m   1693\u001b[0m \u001b[0;34m\u001b[0m\u001b[0m\n\u001b[1;32m   1694\u001b[0m         \u001b[0;31m# Check for duplicates\u001b[0m\u001b[0;34m\u001b[0m\u001b[0;34m\u001b[0m\u001b[0;34m\u001b[0m\u001b[0m\n",
      "\u001b[0;31mKeyError\u001b[0m: standard      296\nperishable    295\ncosmetics     293\nplants          9\nbaking         15\nperfumes        9\nlotions        54\ntextile        48\nshoes          25\nacrylic        24\ndental         14\nbooks          14\noils           13\nmetals          9\nplastic         7\nsteroids       45\nrubber          4\nName: 1, dtype: int64"
     ]
    }
   ],
   "source": [
    "final=test.apply(pd.Series.value_counts)\n",
    "final=final.fillna(0)\n",
    "final=final.sort_values(by=final.iloc[0], axis=1, inplace=True)\n",
    "# final.head()"
   ]
  },
  {
   "cell_type": "code",
   "execution_count": 29,
   "metadata": {},
   "outputs": [
    {
     "data": {
      "text/plain": [
       "standard      296\n",
       "perishable    295\n",
       "cosmetics     293\n",
       "plants          9\n",
       "baking         15\n",
       "perfumes        9\n",
       "lotions        54\n",
       "textile        48\n",
       "shoes          25\n",
       "acrylic        24\n",
       "dental         14\n",
       "books          14\n",
       "oils           13\n",
       "metals          9\n",
       "plastic         7\n",
       "steroids       45\n",
       "rubber          4\n",
       "Name: 1, dtype: int64"
      ]
     },
     "execution_count": 29,
     "metadata": {},
     "output_type": "execute_result"
    }
   ],
   "source": [
    "final.iloc[0]"
   ]
  },
  {
   "cell_type": "code",
   "execution_count": 31,
   "metadata": {},
   "outputs": [
    {
     "data": {
      "text/plain": [
       "{9, 14}"
      ]
     },
     "execution_count": 31,
     "metadata": {},
     "output_type": "execute_result"
    }
   ],
   "source": [
    "l=(list(final.iloc[0]))\n",
    "set([x for x in l if l.count(x) > 1])"
   ]
  },
  {
   "cell_type": "code",
   "execution_count": 482,
   "metadata": {},
   "outputs": [
    {
     "data": {
      "text/plain": [
       "'1'"
      ]
     },
     "execution_count": 482,
     "metadata": {},
     "output_type": "execute_result"
    }
   ],
   "source": [
    "test.iloc[0,0]"
   ]
  },
  {
   "cell_type": "code",
   "execution_count": 32,
   "metadata": {},
   "outputs": [
    {
     "data": {
      "text/plain": [
       "3.9395973154362416"
      ]
     },
     "execution_count": 32,
     "metadata": {},
     "output_type": "execute_result"
    }
   ],
   "source": [
    "test=test.astype(int)\n",
    "sums=test.sum(axis=1)\n",
    "sums.mean()"
   ]
  },
  {
   "cell_type": "code",
   "execution_count": 33,
   "metadata": {},
   "outputs": [
    {
     "data": {
      "text/plain": [
       "0.9794397348492256"
      ]
     },
     "execution_count": 33,
     "metadata": {},
     "output_type": "execute_result"
    }
   ],
   "source": [
    "sums.std()"
   ]
  },
  {
   "cell_type": "code",
   "execution_count": 34,
   "metadata": {},
   "outputs": [
    {
     "data": {
      "image/png": "[encoded data removed]",
      "text/plain": [
       "<Figure size 432x288 with 1 Axes>"
      ]
     },
     "metadata": {},
     "output_type": "display_data"
    },
    {
     "data": {
      "text/plain": [
       "rubber          4\n",
       "plastic         7\n",
       "metals          9\n",
       "plants          9\n",
       "perfumes        9\n",
       "oils           13\n",
       "books          14\n",
       "dental         14\n",
       "baking         15\n",
       "acrylic        24\n",
       "shoes          25\n",
       "steroids       45\n",
       "textile        48\n",
       "lotions        54\n",
       "cosmetics     293\n",
       "perishable    295\n",
       "standard      296\n",
       "Name: 1, dtype: int64"
      ]
     },
     "execution_count": 34,
     "metadata": {},
     "output_type": "execute_result"
    }
   ],
   "source": [
    "\n",
    "\n",
    "sns.barplot(y=final.columns, x=final.iloc[0],color=\"b\")\n",
    "sns.set_color_codes('pastel')\n",
    "sns.despine(left = True, bottom = True)\n",
    "\n",
    "\n",
    "plt.show()\n",
    "\n",
    "(final.iloc[0]).sort_values()"
   ]
  },
  {
   "cell_type": "code",
   "execution_count": 35,
   "metadata": {},
   "outputs": [
    {
     "data": {
      "image/png": "[encoded data removed]",
      "text/plain": [
       "<Figure size 432x288 with 1 Axes>"
      ]
     },
     "metadata": {},
     "output_type": "display_data"
    }
   ],
   "source": [
    "import numpy as np\n",
    "g=sns.barplot(y=final.columns, x=final.iloc[0],color=\"b\")\n",
    "g.set(xlabel= \"Number of Tests Performed\",ylabel='Test Type')\n",
    "g.set_title('Number of Tests Performed by Test Type')\n",
    "show_values_on_bars(g, \"h\", 0.3)\n",
    "plt.show()"
   ]
  },
  {
   "cell_type": "markdown",
   "metadata": {},
   "source": [
    "## test results"
   ]
  },
  {
   "cell_type": "code",
   "execution_count": 36,
   "metadata": {},
   "outputs": [],
   "source": [
    "def catch(item):\n",
    "    try:\n",
    "        return item[1]\n",
    "    except IndexError:\n",
    "        return '0'"
   ]
  },
  {
   "cell_type": "code",
   "execution_count": 37,
   "metadata": {
    "scrolled": true
   },
   "outputs": [
    {
     "data": {
      "text/plain": [
       "(298, 68)"
      ]
     },
     "execution_count": 37,
     "metadata": {},
     "output_type": "execute_result"
    }
   ],
   "source": [
    "result_cols=['standard_0', 'standard_1', 'standard_2', 'standard_3', 'perishable_0',\n",
    "       'perishable_1', 'perishable_2', 'perishable_3', 'cosmetics_0',\n",
    "       'cosmetics_1', 'cosmetics_2', 'cosmetics_3', 'plants_0', 'plants_1',\n",
    "       'plants_2', 'plants_3', 'baking_0', 'baking_1', 'baking_2', 'baking_3',\n",
    "        'perfumes_0', 'perfumes_1', 'perfumes_2',\n",
    "       'perfumes_3',   'lotions_0', 'lotions_1',\n",
    "       'lotions_2', 'lotions_3', 'textile_0', 'textile_1', 'textile_2',\n",
    "       'textile_3',  'steroids_0', 'steroids_1', 'steroids_2',\n",
    "       'steroids_3', 'shoes_0', 'shoes_1', 'shoes_2', 'shoes_3',\n",
    "        'rubber_0', 'rubber_1', 'rubber_2', 'rubber_3', \n",
    "       'acrylic_0', 'acrylic_1', 'acrylic_2', 'acrylic_3', \n",
    "       'dental_0', 'dental_1', 'dental_2', 'dental_3',  'books_0',\n",
    "       'books_1', 'books_2', 'books_3',  'oils_0', 'oils_1', 'oils_2',\n",
    "       'oils_3',  'metals_0', 'metals_1', 'metals_2', 'metals_3',\n",
    "        'plastic_0', 'plastic_1', 'plastic_2', 'plastic_3']\n",
    "\n",
    "results=data[result_cols]\n",
    "results.shape"
   ]
  },
  {
   "cell_type": "code",
   "execution_count": 38,
   "metadata": {},
   "outputs": [],
   "source": [
    "split_results=pd.DataFrame()\n",
    "# result_cols=['plastic_3']\n",
    "for col in result_cols:\n",
    "    splitted=results[col].astype(str).str.split('--',1).tolist()\n",
    "    splitted_before=[item[0] for item in splitted]\n",
    "    splitted_after=[catch(item) for item in splitted]\n",
    "\n",
    "    \n",
    "    new_df=pd.DataFrame({\n",
    "        f'{col}_before': splitted_before,\n",
    "        f'{col}_after': splitted_after\n",
    "        \n",
    "    })\n",
    "    split_results=pd.concat([split_results, new_df],axis=1)"
   ]
  },
  {
   "cell_type": "code",
   "execution_count": 39,
   "metadata": {},
   "outputs": [],
   "source": [
    "before_cols = [col for col in split_results.columns if col.endswith('before')]\n",
    "after_cols = [col for col in split_results.columns if col.endswith('after')]\n",
    "before=split_results[before_cols]\n",
    "after=split_results[after_cols]"
   ]
  },
  {
   "cell_type": "code",
   "execution_count": 40,
   "metadata": {},
   "outputs": [],
   "source": [
    "before_splitted=before.apply(split_col, axis=0)\n",
    "after_splitted=after.apply(split_col, axis=0)"
   ]
  },
  {
   "cell_type": "code",
   "execution_count": 43,
   "metadata": {},
   "outputs": [],
   "source": [
    "test_counts=pd.DataFrame(columns=['test_number','count','test_type'])\n",
    "time_dataframe=after_splitted\n",
    "\n",
    "for testtype in test_columns:\n",
    "    test_cols=[col for col in time_dataframe if col.startswith(testtype) ]\n",
    "    cols=[time_dataframe[col] for col in test_cols]\n",
    "    lists=[unlist_col(col) for col in cols]\n",
    "    final=[item for sublist in lists for item in sublist]\n",
    "    final_df=pd.Series(final).value_counts().reset_index().rename(columns={'index': 'test_number',0:'count'})\n",
    "    final_df['test_type']=testtype\n",
    "    test_counts=pd.concat([test_counts,final_df])\n",
    "    \n",
    "test_counts=test_counts[test_counts.test_number!='0']\n",
    "test_counts=test_counts[test_counts.test_number!='']\n",
    "\n",
    "test_counts['test_name']=test_counts.test_type + ' ' + test_counts.test_number\n",
    "\n",
    "test_counts.sort_values(by=['count'], ascending=False)[:20]\n",
    "final_counts=test_counts.sort_values(by=['count'], ascending=False)[:20]"
   ]
  },
  {
   "cell_type": "code",
   "execution_count": 44,
   "metadata": {},
   "outputs": [
    {
     "data": {
      "image/png": "[encoded data removed]",
      "text/plain": [
       "<Figure size 432x288 with 1 Axes>"
      ]
     },
     "metadata": {},
     "output_type": "display_data"
    }
   ],
   "source": [
    "import numpy as np\n",
    "g=sns.barplot(y='test_name', x='count',color=\"b\", data=final_counts)\n",
    "g.set(xlabel= \"Number of Positive Tests\",ylabel='Test Name')\n",
    "g.set_title('Most Common Positive Tests - 2nd Exam')\n",
    "show_values_on_bars(g, \"h\", 0.3)\n",
    "plt.show()"
   ]
  },
  {
   "cell_type": "markdown",
   "metadata": {},
   "source": [
    "## CORELATION MAP"
   ]
  },
  {
   "cell_type": "code",
   "execution_count": 45,
   "metadata": {},
   "outputs": [],
   "source": [
    "cor_df=after_splitted"
   ]
  },
  {
   "cell_type": "code",
   "execution_count": 155,
   "metadata": {},
   "outputs": [],
   "source": [
    "\n",
    "def test_result_per_row(dataframe, testtype,test_num):\n",
    "    test_results=[] \n",
    "    \n",
    "    for row in range(dataframe.shape[0]):\n",
    "        test_cols=[col for col in dataframe if col.startswith(testtype) ]\n",
    "        list_of_lists=dataframe.loc[row,test_cols]\n",
    "        final=[item for sublist in list_of_lists for item in sublist]\n",
    "\n",
    "        if test_num in final:\n",
    "            result=1 \n",
    "        else:\n",
    "            result=0\n",
    "        test_results.append(result)\n",
    "    return test_results\n",
    "        "
   ]
  },
  {
   "cell_type": "code",
   "execution_count": 195,
   "metadata": {},
   "outputs": [],
   "source": [
    "num_materials=11\n",
    "counts_df=final_counts.reset_index()\n",
    "\n",
    "corr_df=pd.DataFrame(index=cor_df.index)\n",
    "\n",
    "for row in range(num_materials):\n",
    "    testtype=counts_df.loc[row,'test_type']\n",
    "    test_num=counts_df.loc[row,'test_number']\n",
    "    test_name=counts_df.loc[row,'test_name']\n",
    "    g=test_result_per_row(cor_df,testtype,test_num)\n",
    "    corr_df[test_name]=g"
   ]
  },
  {
   "cell_type": "code",
   "execution_count": 198,
   "metadata": {},
   "outputs": [
    {
     "data": {
      "text/plain": [
       "Text(0.5, 1.0, 'Positive tests correlation matrix')"
      ]
     },
     "execution_count": 198,
     "metadata": {},
     "output_type": "execute_result"
    },
    {
     "data": {
      "image/png": "[encoded data removed]",
      "text/plain": [
       "<Figure size 720x720 with 2 Axes>"
      ]
     },
     "metadata": {},
     "output_type": "display_data"
    }
   ],
   "source": [
    "fig, ax = plt.subplots(figsize=(10,10))\n",
    "\n",
    "sns.heatmap(corr_df.corr(), annot = True,fmt='.2g',cmap= 'coolwarm').set_title('Positive tests correlation matrix')\n"
   ]
  },
  {
   "cell_type": "markdown",
   "metadata": {},
   "source": [
    "## COUNT POSITIVE TEST"
   ]
  },
  {
   "cell_type": "code",
   "execution_count": 226,
   "metadata": {},
   "outputs": [],
   "source": [
    "time_dataframe=before_splitted\n"
   ]
  },
  {
   "cell_type": "code",
   "execution_count": 227,
   "metadata": {},
   "outputs": [],
   "source": []
  },
  {
   "cell_type": "code",
   "execution_count": 228,
   "metadata": {},
   "outputs": [],
   "source": [
    "len_table=time_dataframe.applymap(count_len)\n",
    "len_table['PatientID']=data['PatientID'].values\n",
    "\n",
    "patient_counts=pd.DataFrame(columns=['patient_id','test_type', 'count'])\n",
    "\n",
    "for testtype in test_columns:\n",
    "    test_cols=[col for col in time_dataframe if col.startswith(testtype) ]\n",
    "    test_table=len_table[test_cols]\n",
    "    sums=test_table.sum(axis=1)\n",
    "    new_table=pd.DataFrame({\n",
    "    'test_type':testtype,\n",
    "    'count':sums,\n",
    "    'patient_id': len_table.PatientID\n",
    "    })\n",
    "    patient_counts=pd.concat([patient_counts,new_table], axis=0)\n",
    "    \n",
    "patient_counts['boolean']=patient_counts.apply (lambda row: label(row), axis=1)\n"
   ]
  },
  {
   "cell_type": "code",
   "execution_count": 430,
   "metadata": {},
   "outputs": [
    {
     "data": {
      "text/plain": [
       "0.5469798657718121"
      ]
     },
     "execution_count": 430,
     "metadata": {},
     "output_type": "execute_result"
    }
   ],
   "source": [
    "patient=patient_counts.groupby('patient_id')['count'].sum().reset_index().sort_values('count')\n",
    "\n",
    "patient['boolean']=patient.apply (lambda row: label(row), axis=1)\n",
    "sum(patient.boolean)/298"
   ]
  },
  {
   "cell_type": "code",
   "execution_count": 432,
   "metadata": {},
   "outputs": [
    {
     "data": {
      "text/plain": [
       "1.9963768115942029"
      ]
     },
     "execution_count": 432,
     "metadata": {},
     "output_type": "execute_result"
    }
   ],
   "source": [
    "patient['count'].mean()"
   ]
  },
  {
   "cell_type": "code",
   "execution_count": 231,
   "metadata": {},
   "outputs": [],
   "source": [
    "pos_counts=pd.DataFrame(columns=['testtype','percent_positive'])\n",
    "\n",
    "for testtype in test_columns:\n",
    "\n",
    "    rel_table=patient_counts[patient_counts.test_type==testtype]\n",
    "    avg=sum(rel_table.boolean)/rel_table.shape[0]\n",
    "    pos_counts=pos_counts.append({\"testtype\":testtype,\"percent_positive\":avg },ignore_index=True)\n"
   ]
  },
  {
   "cell_type": "code",
   "execution_count": 232,
   "metadata": {},
   "outputs": [],
   "source": [
    "pos_sorted=pos_counts.sort_values(by=['percent_positive'], ascending=False)"
   ]
  },
  {
   "cell_type": "code",
   "execution_count": 234,
   "metadata": {},
   "outputs": [
    {
     "data": {
      "image/png": "[encoded data removed]",
      "text/plain": [
       "<Figure size 432x288 with 1 Axes>"
      ]
     },
     "metadata": {},
     "output_type": "display_data"
    }
   ],
   "source": [
    "import numpy as np\n",
    "g=sns.barplot(y='testtype', x='percent_positive',color=\"b\", data=pos_sorted)\n",
    "g.set(xlabel= \" Percent Positive Tests\",ylabel='Test Name')\n",
    "g.set_title('Percent of Positive Tests by Test Type - 1st Test ')\n",
    "plt.show()"
   ]
  },
  {
   "cell_type": "code",
   "execution_count": 235,
   "metadata": {},
   "outputs": [
    {
     "data": {
      "text/html": [
       "<div>\n",
       "<style scoped>\n",
       "    .dataframe tbody tr th:only-of-type {\n",
       "        vertical-align: middle;\n",
       "    }\n",
       "\n",
       "    .dataframe tbody tr th {\n",
       "        vertical-align: top;\n",
       "    }\n",
       "\n",
       "    .dataframe thead th {\n",
       "        text-align: right;\n",
       "    }\n",
       "</style>\n",
       "<table border=\"1\" class=\"dataframe\">\n",
       "  <thead>\n",
       "    <tr style=\"text-align: right;\">\n",
       "      <th></th>\n",
       "      <th>standard_0_before</th>\n",
       "      <th>standard_1_before</th>\n",
       "      <th>standard_2_before</th>\n",
       "      <th>standard_3_before</th>\n",
       "      <th>perishable_0_before</th>\n",
       "      <th>perishable_1_before</th>\n",
       "      <th>perishable_2_before</th>\n",
       "      <th>perishable_3_before</th>\n",
       "      <th>cosmetics_0_before</th>\n",
       "      <th>cosmetics_1_before</th>\n",
       "      <th>...</th>\n",
       "      <th>oils_3_before</th>\n",
       "      <th>metals_0_before</th>\n",
       "      <th>metals_1_before</th>\n",
       "      <th>metals_2_before</th>\n",
       "      <th>metals_3_before</th>\n",
       "      <th>plastic_0_before</th>\n",
       "      <th>plastic_1_before</th>\n",
       "      <th>plastic_2_before</th>\n",
       "      <th>plastic_3_before</th>\n",
       "      <th>PatientID</th>\n",
       "    </tr>\n",
       "  </thead>\n",
       "  <tbody>\n",
       "    <tr>\n",
       "      <th>0</th>\n",
       "      <td>0</td>\n",
       "      <td>0</td>\n",
       "      <td>0</td>\n",
       "      <td>0</td>\n",
       "      <td>0</td>\n",
       "      <td>0</td>\n",
       "      <td>0</td>\n",
       "      <td>0</td>\n",
       "      <td>0</td>\n",
       "      <td>0</td>\n",
       "      <td>...</td>\n",
       "      <td>0</td>\n",
       "      <td>0</td>\n",
       "      <td>0</td>\n",
       "      <td>0</td>\n",
       "      <td>0</td>\n",
       "      <td>0</td>\n",
       "      <td>0</td>\n",
       "      <td>0</td>\n",
       "      <td>0</td>\n",
       "      <td>38722203</td>\n",
       "    </tr>\n",
       "    <tr>\n",
       "      <th>1</th>\n",
       "      <td>0</td>\n",
       "      <td>0</td>\n",
       "      <td>0</td>\n",
       "      <td>0</td>\n",
       "      <td>0</td>\n",
       "      <td>0</td>\n",
       "      <td>0</td>\n",
       "      <td>0</td>\n",
       "      <td>0</td>\n",
       "      <td>0</td>\n",
       "      <td>...</td>\n",
       "      <td>0</td>\n",
       "      <td>0</td>\n",
       "      <td>0</td>\n",
       "      <td>0</td>\n",
       "      <td>0</td>\n",
       "      <td>0</td>\n",
       "      <td>0</td>\n",
       "      <td>0</td>\n",
       "      <td>0</td>\n",
       "      <td>21717335</td>\n",
       "    </tr>\n",
       "    <tr>\n",
       "      <th>2</th>\n",
       "      <td>0</td>\n",
       "      <td>1</td>\n",
       "      <td>0</td>\n",
       "      <td>0</td>\n",
       "      <td>0</td>\n",
       "      <td>0</td>\n",
       "      <td>0</td>\n",
       "      <td>0</td>\n",
       "      <td>0</td>\n",
       "      <td>0</td>\n",
       "      <td>...</td>\n",
       "      <td>0</td>\n",
       "      <td>0</td>\n",
       "      <td>0</td>\n",
       "      <td>0</td>\n",
       "      <td>0</td>\n",
       "      <td>0</td>\n",
       "      <td>0</td>\n",
       "      <td>0</td>\n",
       "      <td>0</td>\n",
       "      <td>32028628</td>\n",
       "    </tr>\n",
       "    <tr>\n",
       "      <th>3</th>\n",
       "      <td>2</td>\n",
       "      <td>0</td>\n",
       "      <td>0</td>\n",
       "      <td>0</td>\n",
       "      <td>0</td>\n",
       "      <td>0</td>\n",
       "      <td>0</td>\n",
       "      <td>0</td>\n",
       "      <td>2</td>\n",
       "      <td>0</td>\n",
       "      <td>...</td>\n",
       "      <td>0</td>\n",
       "      <td>0</td>\n",
       "      <td>0</td>\n",
       "      <td>0</td>\n",
       "      <td>0</td>\n",
       "      <td>0</td>\n",
       "      <td>0</td>\n",
       "      <td>0</td>\n",
       "      <td>0</td>\n",
       "      <td>38722203</td>\n",
       "    </tr>\n",
       "    <tr>\n",
       "      <th>4</th>\n",
       "      <td>0</td>\n",
       "      <td>0</td>\n",
       "      <td>0</td>\n",
       "      <td>0</td>\n",
       "      <td>0</td>\n",
       "      <td>0</td>\n",
       "      <td>0</td>\n",
       "      <td>0</td>\n",
       "      <td>0</td>\n",
       "      <td>1</td>\n",
       "      <td>...</td>\n",
       "      <td>0</td>\n",
       "      <td>0</td>\n",
       "      <td>0</td>\n",
       "      <td>0</td>\n",
       "      <td>0</td>\n",
       "      <td>0</td>\n",
       "      <td>0</td>\n",
       "      <td>0</td>\n",
       "      <td>0</td>\n",
       "      <td>21717335</td>\n",
       "    </tr>\n",
       "    <tr>\n",
       "      <th>...</th>\n",
       "      <td>...</td>\n",
       "      <td>...</td>\n",
       "      <td>...</td>\n",
       "      <td>...</td>\n",
       "      <td>...</td>\n",
       "      <td>...</td>\n",
       "      <td>...</td>\n",
       "      <td>...</td>\n",
       "      <td>...</td>\n",
       "      <td>...</td>\n",
       "      <td>...</td>\n",
       "      <td>...</td>\n",
       "      <td>...</td>\n",
       "      <td>...</td>\n",
       "      <td>...</td>\n",
       "      <td>...</td>\n",
       "      <td>...</td>\n",
       "      <td>...</td>\n",
       "      <td>...</td>\n",
       "      <td>...</td>\n",
       "      <td>...</td>\n",
       "    </tr>\n",
       "    <tr>\n",
       "      <th>293</th>\n",
       "      <td>0</td>\n",
       "      <td>0</td>\n",
       "      <td>0</td>\n",
       "      <td>0</td>\n",
       "      <td>0</td>\n",
       "      <td>0</td>\n",
       "      <td>0</td>\n",
       "      <td>0</td>\n",
       "      <td>1</td>\n",
       "      <td>0</td>\n",
       "      <td>...</td>\n",
       "      <td>0</td>\n",
       "      <td>0</td>\n",
       "      <td>0</td>\n",
       "      <td>0</td>\n",
       "      <td>0</td>\n",
       "      <td>0</td>\n",
       "      <td>0</td>\n",
       "      <td>0</td>\n",
       "      <td>0</td>\n",
       "      <td>27088012</td>\n",
       "    </tr>\n",
       "    <tr>\n",
       "      <th>294</th>\n",
       "      <td>4</td>\n",
       "      <td>1</td>\n",
       "      <td>0</td>\n",
       "      <td>0</td>\n",
       "      <td>0</td>\n",
       "      <td>1</td>\n",
       "      <td>0</td>\n",
       "      <td>0</td>\n",
       "      <td>2</td>\n",
       "      <td>1</td>\n",
       "      <td>...</td>\n",
       "      <td>0</td>\n",
       "      <td>0</td>\n",
       "      <td>0</td>\n",
       "      <td>0</td>\n",
       "      <td>0</td>\n",
       "      <td>0</td>\n",
       "      <td>0</td>\n",
       "      <td>0</td>\n",
       "      <td>0</td>\n",
       "      <td>59643726</td>\n",
       "    </tr>\n",
       "    <tr>\n",
       "      <th>295</th>\n",
       "      <td>0</td>\n",
       "      <td>1</td>\n",
       "      <td>0</td>\n",
       "      <td>0</td>\n",
       "      <td>0</td>\n",
       "      <td>0</td>\n",
       "      <td>0</td>\n",
       "      <td>0</td>\n",
       "      <td>0</td>\n",
       "      <td>0</td>\n",
       "      <td>...</td>\n",
       "      <td>0</td>\n",
       "      <td>0</td>\n",
       "      <td>0</td>\n",
       "      <td>0</td>\n",
       "      <td>0</td>\n",
       "      <td>0</td>\n",
       "      <td>0</td>\n",
       "      <td>0</td>\n",
       "      <td>0</td>\n",
       "      <td>307777995</td>\n",
       "    </tr>\n",
       "    <tr>\n",
       "      <th>296</th>\n",
       "      <td>1</td>\n",
       "      <td>2</td>\n",
       "      <td>0</td>\n",
       "      <td>0</td>\n",
       "      <td>0</td>\n",
       "      <td>0</td>\n",
       "      <td>0</td>\n",
       "      <td>0</td>\n",
       "      <td>0</td>\n",
       "      <td>2</td>\n",
       "      <td>...</td>\n",
       "      <td>0</td>\n",
       "      <td>0</td>\n",
       "      <td>0</td>\n",
       "      <td>0</td>\n",
       "      <td>0</td>\n",
       "      <td>0</td>\n",
       "      <td>0</td>\n",
       "      <td>0</td>\n",
       "      <td>0</td>\n",
       "      <td>204425276</td>\n",
       "    </tr>\n",
       "    <tr>\n",
       "      <th>297</th>\n",
       "      <td>0</td>\n",
       "      <td>0</td>\n",
       "      <td>0</td>\n",
       "      <td>0</td>\n",
       "      <td>0</td>\n",
       "      <td>0</td>\n",
       "      <td>0</td>\n",
       "      <td>0</td>\n",
       "      <td>0</td>\n",
       "      <td>0</td>\n",
       "      <td>...</td>\n",
       "      <td>0</td>\n",
       "      <td>0</td>\n",
       "      <td>0</td>\n",
       "      <td>0</td>\n",
       "      <td>0</td>\n",
       "      <td>0</td>\n",
       "      <td>0</td>\n",
       "      <td>0</td>\n",
       "      <td>0</td>\n",
       "      <td>317109742</td>\n",
       "    </tr>\n",
       "  </tbody>\n",
       "</table>\n",
       "<p>298 rows × 69 columns</p>\n",
       "</div>"
      ],
      "text/plain": [
       "     standard_0_before  standard_1_before  standard_2_before  \\\n",
       "0                    0                  0                  0   \n",
       "1                    0                  0                  0   \n",
       "2                    0                  1                  0   \n",
       "3                    2                  0                  0   \n",
       "4                    0                  0                  0   \n",
       "..                 ...                ...                ...   \n",
       "293                  0                  0                  0   \n",
       "294                  4                  1                  0   \n",
       "295                  0                  1                  0   \n",
       "296                  1                  2                  0   \n",
       "297                  0                  0                  0   \n",
       "\n",
       "     standard_3_before  perishable_0_before  perishable_1_before  \\\n",
       "0                    0                    0                    0   \n",
       "1                    0                    0                    0   \n",
       "2                    0                    0                    0   \n",
       "3                    0                    0                    0   \n",
       "4                    0                    0                    0   \n",
       "..                 ...                  ...                  ...   \n",
       "293                  0                    0                    0   \n",
       "294                  0                    0                    1   \n",
       "295                  0                    0                    0   \n",
       "296                  0                    0                    0   \n",
       "297                  0                    0                    0   \n",
       "\n",
       "     perishable_2_before  perishable_3_before  cosmetics_0_before  \\\n",
       "0                      0                    0                   0   \n",
       "1                      0                    0                   0   \n",
       "2                      0                    0                   0   \n",
       "3                      0                    0                   2   \n",
       "4                      0                    0                   0   \n",
       "..                   ...                  ...                 ...   \n",
       "293                    0                    0                   1   \n",
       "294                    0                    0                   2   \n",
       "295                    0                    0                   0   \n",
       "296                    0                    0                   0   \n",
       "297                    0                    0                   0   \n",
       "\n",
       "     cosmetics_1_before  ...  oils_3_before  metals_0_before  metals_1_before  \\\n",
       "0                     0  ...              0                0                0   \n",
       "1                     0  ...              0                0                0   \n",
       "2                     0  ...              0                0                0   \n",
       "3                     0  ...              0                0                0   \n",
       "4                     1  ...              0                0                0   \n",
       "..                  ...  ...            ...              ...              ...   \n",
       "293                   0  ...              0                0                0   \n",
       "294                   1  ...              0                0                0   \n",
       "295                   0  ...              0                0                0   \n",
       "296                   2  ...              0                0                0   \n",
       "297                   0  ...              0                0                0   \n",
       "\n",
       "     metals_2_before  metals_3_before  plastic_0_before  plastic_1_before  \\\n",
       "0                  0                0                 0                 0   \n",
       "1                  0                0                 0                 0   \n",
       "2                  0                0                 0                 0   \n",
       "3                  0                0                 0                 0   \n",
       "4                  0                0                 0                 0   \n",
       "..               ...              ...               ...               ...   \n",
       "293                0                0                 0                 0   \n",
       "294                0                0                 0                 0   \n",
       "295                0                0                 0                 0   \n",
       "296                0                0                 0                 0   \n",
       "297                0                0                 0                 0   \n",
       "\n",
       "     plastic_2_before  plastic_3_before  PatientID  \n",
       "0                   0                 0   38722203  \n",
       "1                   0                 0   21717335  \n",
       "2                   0                 0   32028628  \n",
       "3                   0                 0   38722203  \n",
       "4                   0                 0   21717335  \n",
       "..                ...               ...        ...  \n",
       "293                 0                 0   27088012  \n",
       "294                 0                 0   59643726  \n",
       "295                 0                 0  307777995  \n",
       "296                 0                 0  204425276  \n",
       "297                 0                 0  317109742  \n",
       "\n",
       "[298 rows x 69 columns]"
      ]
     },
     "execution_count": 235,
     "metadata": {},
     "output_type": "execute_result"
    }
   ],
   "source": [
    "len_table"
   ]
  },
  {
   "cell_type": "markdown",
   "metadata": {},
   "source": [
    "## time course"
   ]
  },
  {
   "cell_type": "code",
   "execution_count": 276,
   "metadata": {},
   "outputs": [],
   "source": [
    "time_dataframe=after_splitted\n",
    "time_dataframe['PatientID']=data['PatientID'].values\n",
    "time_dataframe['month']=data.month\n"
   ]
  },
  {
   "cell_type": "code",
   "execution_count": 277,
   "metadata": {},
   "outputs": [],
   "source": [
    "time_dataframe.iloc[103].year='17'\n",
    "time_dataframe.iloc[103].month='11'\n",
    "time_dataframe.iloc[102].year='17'\n",
    "time_dataframe.iloc[102].month='11'"
   ]
  },
  {
   "cell_type": "code",
   "execution_count": 307,
   "metadata": {},
   "outputs": [],
   "source": [
    "missing_years=time_dataframe[time_dataframe.year=='nan']\n",
    "missing_months=time_dataframe[time_dataframe.month=='nan']\n",
    "missing_months_n=time_dataframe[time_dataframe.month.isna()]"
   ]
  },
  {
   "cell_type": "code",
   "execution_count": 313,
   "metadata": {},
   "outputs": [],
   "source": [
    "for index in missing_years.index:\n",
    "    time_dataframe.iloc[index].year=time_dataframe.iloc[index-1].year\n",
    "    \n",
    "for index in missing_months.index:\n",
    "    time_dataframe.iloc[index].month=time_dataframe.iloc[index-1].month\n",
    "    \n",
    "for index in missing_months_n.index:\n",
    "    time_dataframe.iloc[index].month=time_dataframe.iloc[index-1].month"
   ]
  },
  {
   "cell_type": "code",
   "execution_count": 374,
   "metadata": {},
   "outputs": [],
   "source": [
    "time_dataframe=time_dataframe.replace({'7': '07','8': '08','9': '09','1': '01','2': '02','3': '03','4': '04','5': '05','6': '06'})"
   ]
  },
  {
   "cell_type": "code",
   "execution_count": 394,
   "metadata": {
    "scrolled": true
   },
   "outputs": [],
   "source": [
    "time_dataframe['date']=time_dataframe.month+'/'+time_dataframe.year"
   ]
  },
  {
   "cell_type": "code",
   "execution_count": 395,
   "metadata": {},
   "outputs": [
    {
     "data": {
      "text/plain": [
       "0      07/17\n",
       "1      07/17\n",
       "2      07/17\n",
       "3      07/17\n",
       "4      07/17\n",
       "       ...  \n",
       "293    06/18\n",
       "294    06/18\n",
       "295    06/18\n",
       "296    06/18\n",
       "297    06/18\n",
       "Name: date, Length: 298, dtype: object"
      ]
     },
     "execution_count": 395,
     "metadata": {},
     "output_type": "execute_result"
    }
   ],
   "source": [
    "time_dataframe['date']"
   ]
  },
  {
   "cell_type": "code",
   "execution_count": 396,
   "metadata": {},
   "outputs": [],
   "source": [
    "time_dataframe['date']=pd.to_datetime(time_dataframe['date'], format='%m/%y')\n",
    "time_df=time_dataframe[['PatientID','date']]"
   ]
  },
  {
   "cell_type": "code",
   "execution_count": 397,
   "metadata": {},
   "outputs": [
    {
     "data": {
      "text/plain": [
       "0     2017-07-01\n",
       "1     2017-07-01\n",
       "2     2017-07-01\n",
       "3     2017-07-01\n",
       "4     2017-07-01\n",
       "         ...    \n",
       "293   2018-06-01\n",
       "294   2018-06-01\n",
       "295   2018-06-01\n",
       "296   2018-06-01\n",
       "297   2018-06-01\n",
       "Name: date, Length: 298, dtype: datetime64[ns]"
      ]
     },
     "execution_count": 397,
     "metadata": {},
     "output_type": "execute_result"
    }
   ],
   "source": [
    "time_dataframe['date']"
   ]
  },
  {
   "cell_type": "code",
   "execution_count": 399,
   "metadata": {},
   "outputs": [],
   "source": [
    "len_table=time_dataframe.applymap(count_len)\n",
    "len_table['PatientID']=data['PatientID'].values\n",
    "\n",
    "patient_counts=pd.DataFrame(columns=['patient_id','test_type', 'count'])\n",
    "\n",
    "for testtype in test_columns:\n",
    "    test_cols=[col for col in time_dataframe if col.startswith(testtype) ]\n",
    "    test_table=len_table[test_cols]\n",
    "    sums=test_table.sum(axis=1)\n",
    "    new_table=pd.DataFrame({\n",
    "    'test_type':testtype,\n",
    "    'count':sums,\n",
    "    'patient_id': len_table.PatientID\n",
    "    })\n",
    "    patient_counts=pd.concat([patient_counts,new_table], axis=0)\n",
    "    \n",
    "patient_counts['boolean']=patient_counts.apply (lambda row: label(row), axis=1)"
   ]
  },
  {
   "cell_type": "code",
   "execution_count": 400,
   "metadata": {},
   "outputs": [],
   "source": [
    "final_time_df=patient.merge(time_df,left_on='patient_id', right_on='PatientID', how='left')"
   ]
  },
  {
   "cell_type": "code",
   "execution_count": 404,
   "metadata": {},
   "outputs": [
    {
     "data": {
      "text/html": [
       "<div>\n",
       "<style scoped>\n",
       "    .dataframe tbody tr th:only-of-type {\n",
       "        vertical-align: middle;\n",
       "    }\n",
       "\n",
       "    .dataframe tbody tr th {\n",
       "        vertical-align: top;\n",
       "    }\n",
       "\n",
       "    .dataframe thead th {\n",
       "        text-align: right;\n",
       "    }\n",
       "</style>\n",
       "<table border=\"1\" class=\"dataframe\">\n",
       "  <thead>\n",
       "    <tr style=\"text-align: right;\">\n",
       "      <th></th>\n",
       "      <th>patient_id</th>\n",
       "      <th>count</th>\n",
       "      <th>boolean</th>\n",
       "      <th>PatientID</th>\n",
       "      <th>date</th>\n",
       "      <th>pat</th>\n",
       "    </tr>\n",
       "  </thead>\n",
       "  <tbody>\n",
       "    <tr>\n",
       "      <th>0</th>\n",
       "      <td>312465313</td>\n",
       "      <td>0</td>\n",
       "      <td>0</td>\n",
       "      <td>312465313</td>\n",
       "      <td>2017-09-01</td>\n",
       "      <td>1</td>\n",
       "    </tr>\n",
       "    <tr>\n",
       "      <th>1</th>\n",
       "      <td>315944884</td>\n",
       "      <td>0</td>\n",
       "      <td>0</td>\n",
       "      <td>315944884</td>\n",
       "      <td>2017-07-01</td>\n",
       "      <td>1</td>\n",
       "    </tr>\n",
       "    <tr>\n",
       "      <th>2</th>\n",
       "      <td>23890023</td>\n",
       "      <td>0</td>\n",
       "      <td>0</td>\n",
       "      <td>23890023</td>\n",
       "      <td>2017-09-01</td>\n",
       "      <td>1</td>\n",
       "    </tr>\n",
       "    <tr>\n",
       "      <th>3</th>\n",
       "      <td>316280304</td>\n",
       "      <td>0</td>\n",
       "      <td>0</td>\n",
       "      <td>316280304</td>\n",
       "      <td>2018-04-01</td>\n",
       "      <td>1</td>\n",
       "    </tr>\n",
       "    <tr>\n",
       "      <th>4</th>\n",
       "      <td>23540024</td>\n",
       "      <td>0</td>\n",
       "      <td>0</td>\n",
       "      <td>23540024</td>\n",
       "      <td>2018-02-01</td>\n",
       "      <td>1</td>\n",
       "    </tr>\n",
       "  </tbody>\n",
       "</table>\n",
       "</div>"
      ],
      "text/plain": [
       "  patient_id  count  boolean  PatientID       date  pat\n",
       "0  312465313      0        0  312465313 2017-09-01    1\n",
       "1  315944884      0        0  315944884 2017-07-01    1\n",
       "2   23890023      0        0   23890023 2017-09-01    1\n",
       "3  316280304      0        0  316280304 2018-04-01    1\n",
       "4   23540024      0        0   23540024 2018-02-01    1"
      ]
     },
     "execution_count": 404,
     "metadata": {},
     "output_type": "execute_result"
    }
   ],
   "source": [
    "final_time_df['pat']=1\n",
    "final_time_df.head()"
   ]
  },
  {
   "cell_type": "code",
   "execution_count": 407,
   "metadata": {},
   "outputs": [
    {
     "data": {
      "text/html": [
       "<div>\n",
       "<style scoped>\n",
       "    .dataframe tbody tr th:only-of-type {\n",
       "        vertical-align: middle;\n",
       "    }\n",
       "\n",
       "    .dataframe tbody tr th {\n",
       "        vertical-align: top;\n",
       "    }\n",
       "\n",
       "    .dataframe thead th {\n",
       "        text-align: right;\n",
       "    }\n",
       "</style>\n",
       "<table border=\"1\" class=\"dataframe\">\n",
       "  <thead>\n",
       "    <tr style=\"text-align: right;\">\n",
       "      <th></th>\n",
       "      <th>count</th>\n",
       "      <th>boolean</th>\n",
       "      <th>pat</th>\n",
       "    </tr>\n",
       "    <tr>\n",
       "      <th>date</th>\n",
       "      <th></th>\n",
       "      <th></th>\n",
       "      <th></th>\n",
       "    </tr>\n",
       "  </thead>\n",
       "  <tbody>\n",
       "    <tr>\n",
       "      <th>2017-07-31</th>\n",
       "      <td>107</td>\n",
       "      <td>26</td>\n",
       "      <td>34</td>\n",
       "    </tr>\n",
       "    <tr>\n",
       "      <th>2017-08-31</th>\n",
       "      <td>11</td>\n",
       "      <td>3</td>\n",
       "      <td>6</td>\n",
       "    </tr>\n",
       "    <tr>\n",
       "      <th>2017-09-30</th>\n",
       "      <td>38</td>\n",
       "      <td>12</td>\n",
       "      <td>17</td>\n",
       "    </tr>\n",
       "    <tr>\n",
       "      <th>2017-10-31</th>\n",
       "      <td>39</td>\n",
       "      <td>10</td>\n",
       "      <td>18</td>\n",
       "    </tr>\n",
       "    <tr>\n",
       "      <th>2017-11-30</th>\n",
       "      <td>215</td>\n",
       "      <td>34</td>\n",
       "      <td>51</td>\n",
       "    </tr>\n",
       "    <tr>\n",
       "      <th>2017-12-31</th>\n",
       "      <td>172</td>\n",
       "      <td>33</td>\n",
       "      <td>41</td>\n",
       "    </tr>\n",
       "    <tr>\n",
       "      <th>2018-01-31</th>\n",
       "      <td>90</td>\n",
       "      <td>25</td>\n",
       "      <td>29</td>\n",
       "    </tr>\n",
       "    <tr>\n",
       "      <th>2018-02-28</th>\n",
       "      <td>59</td>\n",
       "      <td>12</td>\n",
       "      <td>18</td>\n",
       "    </tr>\n",
       "    <tr>\n",
       "      <th>2018-03-31</th>\n",
       "      <td>90</td>\n",
       "      <td>19</td>\n",
       "      <td>29</td>\n",
       "    </tr>\n",
       "    <tr>\n",
       "      <th>2018-04-30</th>\n",
       "      <td>78</td>\n",
       "      <td>13</td>\n",
       "      <td>16</td>\n",
       "    </tr>\n",
       "    <tr>\n",
       "      <th>2018-05-31</th>\n",
       "      <td>79</td>\n",
       "      <td>20</td>\n",
       "      <td>26</td>\n",
       "    </tr>\n",
       "    <tr>\n",
       "      <th>2018-06-30</th>\n",
       "      <td>39</td>\n",
       "      <td>9</td>\n",
       "      <td>13</td>\n",
       "    </tr>\n",
       "  </tbody>\n",
       "</table>\n",
       "</div>"
      ],
      "text/plain": [
       "            count  boolean  pat\n",
       "date                           \n",
       "2017-07-31    107       26   34\n",
       "2017-08-31     11        3    6\n",
       "2017-09-30     38       12   17\n",
       "2017-10-31     39       10   18\n",
       "2017-11-30    215       34   51\n",
       "2017-12-31    172       33   41\n",
       "2018-01-31     90       25   29\n",
       "2018-02-28     59       12   18\n",
       "2018-03-31     90       19   29\n",
       "2018-04-30     78       13   16\n",
       "2018-05-31     79       20   26\n",
       "2018-06-30     39        9   13"
      ]
     },
     "execution_count": 407,
     "metadata": {},
     "output_type": "execute_result"
    }
   ],
   "source": [
    "g=final_time_df.groupby(pd.Grouper(key='date', freq='M')).sum()\n",
    "g"
   ]
  },
  {
   "cell_type": "code",
   "execution_count": 411,
   "metadata": {},
   "outputs": [
    {
     "data": {
      "text/html": [
       "<div>\n",
       "<style scoped>\n",
       "    .dataframe tbody tr th:only-of-type {\n",
       "        vertical-align: middle;\n",
       "    }\n",
       "\n",
       "    .dataframe tbody tr th {\n",
       "        vertical-align: top;\n",
       "    }\n",
       "\n",
       "    .dataframe thead th {\n",
       "        text-align: right;\n",
       "    }\n",
       "</style>\n",
       "<table border=\"1\" class=\"dataframe\">\n",
       "  <thead>\n",
       "    <tr style=\"text-align: right;\">\n",
       "      <th></th>\n",
       "      <th>count</th>\n",
       "      <th>boolean</th>\n",
       "      <th>pat</th>\n",
       "      <th>propotion</th>\n",
       "    </tr>\n",
       "    <tr>\n",
       "      <th>date</th>\n",
       "      <th></th>\n",
       "      <th></th>\n",
       "      <th></th>\n",
       "      <th></th>\n",
       "    </tr>\n",
       "  </thead>\n",
       "  <tbody>\n",
       "    <tr>\n",
       "      <th>2017-07-31</th>\n",
       "      <td>107</td>\n",
       "      <td>26</td>\n",
       "      <td>34</td>\n",
       "      <td>0.764706</td>\n",
       "    </tr>\n",
       "    <tr>\n",
       "      <th>2017-08-31</th>\n",
       "      <td>11</td>\n",
       "      <td>3</td>\n",
       "      <td>6</td>\n",
       "      <td>0.500000</td>\n",
       "    </tr>\n",
       "    <tr>\n",
       "      <th>2017-09-30</th>\n",
       "      <td>38</td>\n",
       "      <td>12</td>\n",
       "      <td>17</td>\n",
       "      <td>0.705882</td>\n",
       "    </tr>\n",
       "    <tr>\n",
       "      <th>2017-10-31</th>\n",
       "      <td>39</td>\n",
       "      <td>10</td>\n",
       "      <td>18</td>\n",
       "      <td>0.555556</td>\n",
       "    </tr>\n",
       "    <tr>\n",
       "      <th>2017-11-30</th>\n",
       "      <td>215</td>\n",
       "      <td>34</td>\n",
       "      <td>51</td>\n",
       "      <td>0.666667</td>\n",
       "    </tr>\n",
       "    <tr>\n",
       "      <th>2017-12-31</th>\n",
       "      <td>172</td>\n",
       "      <td>33</td>\n",
       "      <td>41</td>\n",
       "      <td>0.804878</td>\n",
       "    </tr>\n",
       "    <tr>\n",
       "      <th>2018-01-31</th>\n",
       "      <td>90</td>\n",
       "      <td>25</td>\n",
       "      <td>29</td>\n",
       "      <td>0.862069</td>\n",
       "    </tr>\n",
       "    <tr>\n",
       "      <th>2018-02-28</th>\n",
       "      <td>59</td>\n",
       "      <td>12</td>\n",
       "      <td>18</td>\n",
       "      <td>0.666667</td>\n",
       "    </tr>\n",
       "    <tr>\n",
       "      <th>2018-03-31</th>\n",
       "      <td>90</td>\n",
       "      <td>19</td>\n",
       "      <td>29</td>\n",
       "      <td>0.655172</td>\n",
       "    </tr>\n",
       "    <tr>\n",
       "      <th>2018-04-30</th>\n",
       "      <td>78</td>\n",
       "      <td>13</td>\n",
       "      <td>16</td>\n",
       "      <td>0.812500</td>\n",
       "    </tr>\n",
       "    <tr>\n",
       "      <th>2018-05-31</th>\n",
       "      <td>79</td>\n",
       "      <td>20</td>\n",
       "      <td>26</td>\n",
       "      <td>0.769231</td>\n",
       "    </tr>\n",
       "    <tr>\n",
       "      <th>2018-06-30</th>\n",
       "      <td>39</td>\n",
       "      <td>9</td>\n",
       "      <td>13</td>\n",
       "      <td>0.692308</td>\n",
       "    </tr>\n",
       "  </tbody>\n",
       "</table>\n",
       "</div>"
      ],
      "text/plain": [
       "            count  boolean  pat  propotion\n",
       "date                                      \n",
       "2017-07-31    107       26   34   0.764706\n",
       "2017-08-31     11        3    6   0.500000\n",
       "2017-09-30     38       12   17   0.705882\n",
       "2017-10-31     39       10   18   0.555556\n",
       "2017-11-30    215       34   51   0.666667\n",
       "2017-12-31    172       33   41   0.804878\n",
       "2018-01-31     90       25   29   0.862069\n",
       "2018-02-28     59       12   18   0.666667\n",
       "2018-03-31     90       19   29   0.655172\n",
       "2018-04-30     78       13   16   0.812500\n",
       "2018-05-31     79       20   26   0.769231\n",
       "2018-06-30     39        9   13   0.692308"
      ]
     },
     "execution_count": 411,
     "metadata": {},
     "output_type": "execute_result"
    }
   ],
   "source": [
    "g['propotion']=g.boolean/g.pat\n",
    "g"
   ]
  },
  {
   "cell_type": "code",
   "execution_count": 433,
   "metadata": {},
   "outputs": [
    {
     "data": {
      "text/plain": [
       "(array([736541., 736572., 736602., 736633., 736663., 736694., 736725.,\n",
       "        736753., 736784., 736814., 736845., 736875.]),\n",
       " <a list of 12 Text major ticklabel objects>)"
      ]
     },
     "execution_count": 433,
     "metadata": {},
     "output_type": "execute_result"
    },
    {
     "data": {
      "image/png": "[encoded data removed]",
      "text/plain": [
       "<Figure size 504x504 with 1 Axes>"
      ]
     },
     "metadata": {},
     "output_type": "display_data"
    }
   ],
   "source": [
    "\n",
    "fig, ax = plt.subplots(figsize=(7,7))\n",
    "\n",
    "sns.lineplot(x=g.index, y=g.propotion).set_title('Proportion of positive tests per month')\n",
    "\n",
    "ax.set(xticks=g.index.values)\n",
    "ax.set( ylabel='proportion of positive tests')\n",
    "\n",
    "plt.xticks(rotation=15)\n"
   ]
  },
  {
   "cell_type": "code",
   "execution_count": 434,
   "metadata": {},
   "outputs": [
    {
     "data": {
      "text/plain": [
       "(array([736541., 736572., 736602., 736633., 736663., 736694., 736725.,\n",
       "        736753., 736784., 736814., 736845., 736875.]),\n",
       " <a list of 12 Text major ticklabel objects>)"
      ]
     },
     "execution_count": 434,
     "metadata": {},
     "output_type": "execute_result"
    },
    {
     "data": {
      "image/png": "[encoded data removed]",
      "text/plain": [
       "<Figure size 504x504 with 1 Axes>"
      ]
     },
     "metadata": {},
     "output_type": "display_data"
    }
   ],
   "source": [
    "\n",
    "fig, ax = plt.subplots(figsize=(7,7))\n",
    "\n",
    "sns.lineplot(x=g.index, y=g.pat).set_title('Total number of patients tested per month')\n",
    "\n",
    "ax.set(xticks=g.index.values)\n",
    "ax.set( ylabel='number of patients')\n",
    "\n",
    "plt.xticks(rotation=15)\n"
   ]
  },
  {
   "cell_type": "code",
   "execution_count": null,
   "metadata": {},
   "outputs": [],
   "source": []
  }
 ],
 "metadata": {
  "kernelspec": {
   "display_name": "Python 3",
   "language": "python",
   "name": "python3"
  },
  "language_info": {
   "codemirror_mode": {
    "name": "ipython",
    "version": 3
   },
   "file_extension": ".py",
   "mimetype": "text/x-python",
   "name": "python",
   "nbconvert_exporter": "python",
   "pygments_lexer": "ipython3",
   "version": "3.8.3"
  }
 },
 "nbformat": 4,
 "nbformat_minor": 4
}
